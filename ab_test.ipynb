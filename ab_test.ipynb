{
 "cells": [
  {
   "cell_type": "code",
   "execution_count": 2,
   "metadata": {},
   "outputs": [],
   "source": [
    "import math\n",
    "from scipy.stats import norm\n",
    "import matplotlib.pyplot as plt\n",
    "import numpy as np\n",
    "import random"
   ]
  },
  {
   "cell_type": "code",
   "execution_count": 26,
   "metadata": {},
   "outputs": [],
   "source": [
    "# Evaluate the decision limit formula\n",
    "def decision_limit_fn(formula, n):\n",
    "    try:\n",
    "        return eval(formula.replace(\"n\", str(n)))\n",
    "    except Exception as e:\n",
    "        raise ValueError(f\"Error evaluating decision-limit formula: {e}\")\n",
    "output_list = []\n",
    "# Main simulation function\n",
    "def simulate(bias=0.,n=1000000,p_limit=0.05):\n",
    "    \n",
    "    decision_limit_formula = \"n / (n + 10000)\"\n",
    "    \n",
    "    boundary = 0\n",
    "    portion = {0: 1}\n",
    "    decided = 0\n",
    "    prob_increase = (1 + bias) / (2 + bias)\n",
    "    finished = 0\n",
    "    fix_ratio = 1  # Hack for roundoff error\n",
    "\n",
    "    for j in range(1, n + 1):\n",
    "        old_portion = portion\n",
    "        portion = {}\n",
    "        total_running = 0\n",
    "\n",
    "        # Update portion values\n",
    "        for i in range(-boundary, boundary + 1, 2):\n",
    "            old_portion[i] *= fix_ratio\n",
    "            total_running += old_portion[i]\n",
    "\n",
    "            portion[i - 1] = portion.get(i - 1, 0) + (1 - prob_increase) * old_portion[i]\n",
    "            portion[i + 1] = portion.get(i + 1, 0) + prob_increase * old_portion[i]\n",
    "\n",
    "        fix_ratio = (1 - finished) / total_running\n",
    "\n",
    "        boundary += 1\n",
    "        allowed_decisions = decision_limit_fn(decision_limit_formula, j) * p_limit\n",
    "        this_decision = 0\n",
    "\n",
    "        if bias >= 0:\n",
    "            this_decision += portion.get(-boundary, 0)\n",
    "        if bias <= 0:\n",
    "            this_decision += portion.get(boundary, 0)\n",
    "\n",
    "        if this_decision + decided <= allowed_decisions:\n",
    "            decided += this_decision\n",
    "            finished += portion.pop(boundary, 0)\n",
    "            finished += portion.pop(-boundary, 0)\n",
    "            standard_deviations = boundary / math.sqrt(j)\n",
    "            p_value = 2 * norm.sf(standard_deviations)\n",
    "\n",
    "            #print(f\"{j}\\t{boundary}\\t{finished}\\t{standard_deviations:.6f}\\t{p_value:.6f}\")\n",
    "            output_list.append([j, boundary, finished,standard_deviations,p_value])\n",
    "            boundary -= 2\n",
    "            if boundary < 0:\n",
    "                break\n",
    "simulate(0,10000)"
   ]
  },
  {
   "cell_type": "code",
   "execution_count": 27,
   "metadata": {},
   "outputs": [],
   "source": [
    "output_arr = np.array(output_list)"
   ]
  },
  {
   "cell_type": "code",
   "execution_count": 32,
   "metadata": {},
   "outputs": [
    {
     "data": {
      "image/png": "[encoded data removed]",
      "text/plain": [
       "<Figure size 640x480 with 1 Axes>"
      ]
     },
     "metadata": {},
     "output_type": "display_data"
    }
   ],
   "source": [
    "plt.figure()\n",
    "plt.plot(output_arr[:,0], output_arr[:,1], 'b')\n",
    "plt.show()"
   ]
  },
  {
   "cell_type": "code",
   "execution_count": 107,
   "metadata": {},
   "outputs": [],
   "source": [
    "pC = 0.2\n",
    "#pB = random.random()\n",
    "pT = 0.3\n",
    "N = 8000"
   ]
  },
  {
   "cell_type": "code",
   "execution_count": 110,
   "metadata": {},
   "outputs": [
    {
     "name": "stdout",
     "output_type": "stream",
     "text": [
      "178.88543819998318\n",
      "No winner at 4000\n",
      "842\n",
      "937\n",
      "95\n"
     ]
    }
   ],
   "source": [
    "sumC = 0\n",
    "sumT = 0\n",
    "#threshold = 2.25*np.sqrt(N)\n",
    "threshold = 2.*np.sqrt(N)\n",
    "print(threshold)\n",
    "for i in range(N//2):\n",
    "    rC = random.random()\n",
    "    rT = random.random()\n",
    "\n",
    "    # Successful conversions\n",
    "    if rC < pC:\n",
    "        sumC += 1\n",
    "    elif rT < pT:\n",
    "        sumT += 1\n",
    "    \n",
    "    # Check to see if we should quit the loop    \n",
    "    if sumT - sumC > threshold:\n",
    "        print(f'Treatment won at {i}')\n",
    "        break\n",
    "    #elif sumB - sumR > threshold:\n",
    "    #    print(f'Blue won at {i}')\n",
    "    #    break\n",
    "    elif sumT + sumC >= N:\n",
    "        print(f'No winner at {i}')\n",
    "        break\n",
    "    \n",
    "    # If we made it all the way to the end\n",
    "    if i == N//2 -1:\n",
    "        print(f'No winner at {N//2}')\n",
    "print(sumC)\n",
    "print(sumT)\n",
    "print(sumT - sumC)"
   ]
  },
  {
   "cell_type": "code",
   "execution_count": null,
   "metadata": {},
   "outputs": [],
   "source": []
  },
  {
   "cell_type": "code",
   "execution_count": null,
   "metadata": {},
   "outputs": [],
   "source": []
  },
  {
   "cell_type": "code",
   "execution_count": null,
   "metadata": {},
   "outputs": [],
   "source": []
  }
 ],
 "metadata": {
  "kernelspec": {
   "display_name": "base",
   "language": "python",
   "name": "python3"
  },
  "language_info": {
   "codemirror_mode": {
    "name": "ipython",
    "version": 3
   },
   "file_extension": ".py",
   "mimetype": "text/x-python",
   "name": "python",
   "nbconvert_exporter": "python",
   "pygments_lexer": "ipython3",
   "version": "3.9.12"
  }
 },
 "nbformat": 4,
 "nbformat_minor": 2
}
