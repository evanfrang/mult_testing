{
 "cells": [
  {
   "cell_type": "code",
   "execution_count": 2,
   "metadata": {},
   "outputs": [],
   "source": [
    "import random\n",
    "import numpy as np"
   ]
  },
  {
   "cell_type": "code",
   "execution_count": 4,
   "metadata": {},
   "outputs": [
    {
     "name": "stdout",
     "output_type": "stream",
     "text": [
      "Type I error: 0.0506\n"
     ]
    }
   ],
   "source": [
    "N = 1000\n",
    "stop = 0\n",
    "for i in range(10000):\n",
    "    d = 0\n",
    "    for j in range(N):\n",
    "        temp = random.randint(0,1)\n",
    "        if temp==0:\n",
    "            d -= 1\n",
    "        else:\n",
    "            d += 1\n",
    "        if d > 1.96*np.sqrt(N):\n",
    "            stop += 1\n",
    "            break\n",
    "print(f'Type I error: {stop/10000}')\n",
    "        "
   ]
  },
  {
   "cell_type": "code",
   "execution_count": 5,
   "metadata": {},
   "outputs": [
    {
     "name": "stdout",
     "output_type": "stream",
     "text": [
      "Type I error: 0.0517\n"
     ]
    }
   ],
   "source": [
    "N = 1000\n",
    "stop = 0\n",
    "for i in range(10000):\n",
    "    d = 0\n",
    "    for j in range(N):\n",
    "        temp = random.randint(0,1)\n",
    "        if temp==0:\n",
    "            d -= 1\n",
    "        else:\n",
    "            d += 1\n",
    "        if d > 2.24*np.sqrt(N) or d < -2.24*np.sqrt(N):\n",
    "            stop += 1\n",
    "            break\n",
    "print(f'Type I error: {stop/10000}')"
   ]
  },
  {
   "cell_type": "code",
   "execution_count": null,
   "metadata": {},
   "outputs": [],
   "source": []
  }
 ],
 "metadata": {
  "kernelspec": {
   "display_name": "base",
   "language": "python",
   "name": "python3"
  },
  "language_info": {
   "codemirror_mode": {
    "name": "ipython",
    "version": 3
   },
   "file_extension": ".py",
   "mimetype": "text/x-python",
   "name": "python",
   "nbconvert_exporter": "python",
   "pygments_lexer": "ipython3",
   "version": "3.9.12"
  }
 },
 "nbformat": 4,
 "nbformat_minor": 2
}
